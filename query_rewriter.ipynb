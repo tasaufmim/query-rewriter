{
  "nbformat": 4,
  "nbformat_minor": 0,
  "metadata": {
    "colab": {
      "provenance": []
    },
    "kernelspec": {
      "name": "python3",
      "display_name": "Python 3"
    },
    "language_info": {
      "name": "python"
    }
  },
  "cells": [
    {
      "cell_type": "code",
      "execution_count": 45,
      "metadata": {
        "id": "_jbrpzrKeWeZ"
      },
      "outputs": [],
      "source": [
        "!pip install groq python-dotenv --quiet"
      ]
    },
    {
      "cell_type": "code",
      "source": [
        "!pip install bert-score --quiet"
      ],
      "metadata": {
        "id": "mpWCxkDiqcGX"
      },
      "execution_count": 46,
      "outputs": []
    },
    {
      "cell_type": "code",
      "source": [
        "import os\n",
        "import json\n",
        "from groq import Groq\n",
        "from dotenv import load_dotenv\n",
        "from bert_score import score\n",
        "import warnings\n",
        "from transformers import logging as hf_logging"
      ],
      "metadata": {
        "id": "nj0jdTVR33d9"
      },
      "execution_count": 47,
      "outputs": []
    },
    {
      "cell_type": "code",
      "source": [
        "load_dotenv()\n",
        "api_key = os.getenv(\"GROQ_API_KEY\")\n",
        "client = Groq(api_key=api_key)"
      ],
      "metadata": {
        "id": "bnGWbCbTlzkG"
      },
      "execution_count": 48,
      "outputs": []
    },
    {
      "cell_type": "code",
      "source": [
        "with open(\"profile.json\", \"r\") as f:\n",
        "    user_profile = json.load(f)"
      ],
      "metadata": {
        "id": "6wm-oX9Sl13_"
      },
      "execution_count": 49,
      "outputs": []
    },
    {
      "cell_type": "code",
      "source": [
        "# avoid warnings\n",
        "warnings.filterwarnings(\"ignore\")\n",
        "hf_logging.set_verbosity_error()"
      ],
      "metadata": {
        "id": "5psZ2eeDuPQ6"
      },
      "execution_count": 50,
      "outputs": []
    },
    {
      "cell_type": "code",
      "source": [
        "def rewrite_query(query, profile):\n",
        "    profile_text = json.dumps(profile, indent=2)\n",
        "    prompt = (\n",
        "        \"You are a personalized query rewriting assistant.\\n\"\n",
        "        \"Use the user profile below to produce a rewritten search query.\\n\"\n",
        "        \"Only output the rewritten query (one line), nothing else.\\n\\n\"\n",
        "        f\"User Profile:\\n{profile_text}\\n\\n\"\n",
        "        f\"User Query: {query}\\n\"\n",
        "        \"IMPORTANT: Output ONLY the rewritten query (single line). Do not explain.\\n\"\n",
        "    )\n",
        "\n",
        "    response = client.chat.completions.create(\n",
        "        model=\"openai/gpt-oss-20B\",\n",
        "        messages=[{\"role\": \"user\", \"content\": prompt}],\n",
        "        temperature=0.3,\n",
        "    )\n",
        "    return response.choices[0].message.content.strip()"
      ],
      "metadata": {
        "id": "3k0KmDrBl27b"
      },
      "execution_count": 51,
      "outputs": []
    },
    {
      "cell_type": "code",
      "source": [
        "def evaluate_with_bertscore(original, rewritten):\n",
        "    \"\"\"Compute semantic similarity using BERTScore (F1).\"\"\"\n",
        "    P, R, F1 = score([rewritten], [original], lang=\"en\", verbose=False)\n",
        "    return F1.mean().item()"
      ],
      "metadata": {
        "id": "lgwMlcw7poMg"
      },
      "execution_count": 52,
      "outputs": []
    },
    {
      "cell_type": "code",
      "source": [
        "def heuristic_evaluation(rewritten, profile):\n",
        "    \"\"\"Check if rewritten query includes any substring from expanded profile fields.\"\"\"\n",
        "    keywords = []\n",
        "\n",
        "    fields_to_check = [\n",
        "        \"preferences\",\n",
        "        \"interests\",\n",
        "        \"movies\",\n",
        "        \"lifestyle\",\n",
        "        \"food_habits\",\n",
        "        \"search_preferences\",\n",
        "        \"demographics\",\n",
        "        \"job_summary\",\n",
        "        \"education_summary\",\n",
        "        \"relationships\"\n",
        "    ]\n",
        "\n",
        "    for field in fields_to_check:\n",
        "        if field in profile:\n",
        "            value = profile[field]\n",
        "            if isinstance(value, dict):\n",
        "                for v in value.values():\n",
        "                    keywords.append(str(v).lower())\n",
        "            elif isinstance(value, list):\n",
        "                for item in value:\n",
        "                    keywords.append(str(item).lower())\n",
        "            else:\n",
        "                keywords.append(str(value).lower())\n",
        "\n",
        "    rewritten_lower = rewritten.lower()\n",
        "    for kw in keywords:\n",
        "        for part in kw.split(\", \"):\n",
        "            if part.strip() and part in rewritten_lower:\n",
        "                return 1  # personalized\n",
        "    return 0  # not personalized"
      ],
      "metadata": {
        "id": "WXuReLo3ru_T"
      },
      "execution_count": 57,
      "outputs": []
    },
    {
      "cell_type": "code",
      "source": [
        "if __name__ == \"__main__\":\n",
        "  while True:\n",
        "    user_query = input(\"User: \")\n",
        "    if user_query.lower() in [\"exit\", \"bye\", \"close\", \"quite\"]:\n",
        "      print(\"Chat ended, Goodbye!\")\n",
        "      break\n",
        "\n",
        "    rewritten = rewrite_query(user_query, user_profile)\n",
        "    print(\"Rewritten:\", rewritten)\n",
        "\n",
        "    metric_score = evaluate_with_bertscore(user_query, rewritten)\n",
        "    print(f\"BERTScore (semantic similarity): {metric_score:.4f}\\n\")\n",
        "\n",
        "    heuristic_flag = heuristic_evaluation(rewritten, user_profile)\n",
        "    print(f\"Heuristic Evaluation: {'Personalized' if heuristic_flag==1 else 'Not Personalized'}\")"
      ],
      "metadata": {
        "colab": {
          "base_uri": "https://localhost:8080/"
        },
        "id": "HDyuo0G3l7Sm",
        "outputId": "b42d6089-e521-4fbc-fc76-c56d9eb4b6ae"
      },
      "execution_count": 59,
      "outputs": [
        {
          "output_type": "stream",
          "name": "stdout",
          "text": [
            "User: exit\n",
            "Chat ended, Goodbye!\n"
          ]
        }
      ]
    }
  ]
}